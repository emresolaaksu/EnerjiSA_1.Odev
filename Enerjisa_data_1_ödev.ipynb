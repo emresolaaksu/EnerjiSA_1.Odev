{
  "nbformat": 4,
  "nbformat_minor": 0,
  "metadata": {
    "colab": {
      "name": "Enerjisa_data_1.ödev.ipynb",
      "provenance": [],
      "collapsed_sections": [],
      "toc_visible": true,
      "authorship_tag": "ABX9TyM9BCcSeAokVtfL2l654Xy8",
      "include_colab_link": true
    },
    "kernelspec": {
      "name": "python3",
      "display_name": "Python 3"
    },
    "language_info": {
      "name": "python"
    }
  },
  "cells": [
    {
      "cell_type": "markdown",
      "metadata": {
        "id": "view-in-github",
        "colab_type": "text"
      },
      "source": [
        "<a href=\"https://colab.research.google.com/github/emresolaaksu/EnerjiSA_1.Odev/blob/main/Enerjisa_data_1_%C3%B6dev.ipynb\" target=\"_parent\"><img src=\"https://colab.research.google.com/assets/colab-badge.svg\" alt=\"Open In Colab\"/></a>"
      ]
    },
    {
      "cell_type": "code",
      "metadata": {
        "id": "C4heahMscaUh"
      },
      "source": [
        "import pandas as pd"
      ],
      "execution_count": 25,
      "outputs": []
    },
    {
      "cell_type": "markdown",
      "metadata": {
        "id": "Lom-8GO4ccwM"
      },
      "source": [
        "1-) Pandas kütüphanesiyle bir DataFrame oluşturup ve içine Levels of Measurements'ları nominal, ordinal, interval ve ratio olan kolonlar ekleyelim."
      ]
    },
    {
      "cell_type": "code",
      "metadata": {
        "id": "lyB896hAcdW0"
      },
      "source": [
        "data = {'Nominal(Cinsiyet)': ['Erkek','Kadın'], 'Ordinal(Hissedilen Ağrı)': [\"Hafif\",\"Ağır\"],'Interval(Vücut Sıcaklığı)': [20, 30], 'Ratio(Boy)': [1.90,1.75]}  \n",
        "df = pd.DataFrame(data)"
      ],
      "execution_count": 26,
      "outputs": []
    },
    {
      "cell_type": "code",
      "metadata": {
        "colab": {
          "base_uri": "https://localhost:8080/",
          "height": 110
        },
        "id": "QsbnbnMHcyTt",
        "outputId": "74f6736c-8af3-4524-9133-ef478a21550c"
      },
      "source": [
        "df"
      ],
      "execution_count": 27,
      "outputs": [
        {
          "output_type": "execute_result",
          "data": {
            "text/html": [
              "<div>\n",
              "<style scoped>\n",
              "    .dataframe tbody tr th:only-of-type {\n",
              "        vertical-align: middle;\n",
              "    }\n",
              "\n",
              "    .dataframe tbody tr th {\n",
              "        vertical-align: top;\n",
              "    }\n",
              "\n",
              "    .dataframe thead th {\n",
              "        text-align: right;\n",
              "    }\n",
              "</style>\n",
              "<table border=\"1\" class=\"dataframe\">\n",
              "  <thead>\n",
              "    <tr style=\"text-align: right;\">\n",
              "      <th></th>\n",
              "      <th>Nominal(Cinsiyet)</th>\n",
              "      <th>Ordinal(Hissedilen Ağrı)</th>\n",
              "      <th>Interval(Vücut Sıcaklığı)</th>\n",
              "      <th>Ratio(Boy)</th>\n",
              "    </tr>\n",
              "  </thead>\n",
              "  <tbody>\n",
              "    <tr>\n",
              "      <th>0</th>\n",
              "      <td>Erkek</td>\n",
              "      <td>Hafif</td>\n",
              "      <td>20</td>\n",
              "      <td>1.90</td>\n",
              "    </tr>\n",
              "    <tr>\n",
              "      <th>1</th>\n",
              "      <td>Kadın</td>\n",
              "      <td>Ağır</td>\n",
              "      <td>30</td>\n",
              "      <td>1.75</td>\n",
              "    </tr>\n",
              "  </tbody>\n",
              "</table>\n",
              "</div>"
            ],
            "text/plain": [
              "  Nominal(Cinsiyet)  ... Ratio(Boy)\n",
              "0             Erkek  ...       1.90\n",
              "1             Kadın  ...       1.75\n",
              "\n",
              "[2 rows x 4 columns]"
            ]
          },
          "metadata": {},
          "execution_count": 27
        }
      ]
    },
    {
      "cell_type": "markdown",
      "metadata": {
        "id": "KVHjrIANejB_"
      },
      "source": [
        "2-) Ekli data üzerindeki aşağıda yer alan kolonların count, mean, std, min, 25%, 50%, 75%, max değerlerini ve IQR metoduyla outlier kalan veri sayısını çıkartıp, bu değerleri sözel ve karşılaştırmalı olarak yorumlayalım. "
      ]
    },
    {
      "cell_type": "code",
      "metadata": {
        "id": "N25r23LdejlU",
        "colab": {
          "base_uri": "https://localhost:8080/",
          "height": 295
        },
        "outputId": "436bb6e6-9aa5-40f0-954c-af7d3854bfe0"
      },
      "source": [
        "df_new = pd.read_csv(\"data.csv\",usecols=['radius_mean', 'area_mean','compactness_mean'])\n",
        "described = df_new.describe()\n",
        "described"
      ],
      "execution_count": 28,
      "outputs": [
        {
          "output_type": "execute_result",
          "data": {
            "text/html": [
              "<div>\n",
              "<style scoped>\n",
              "    .dataframe tbody tr th:only-of-type {\n",
              "        vertical-align: middle;\n",
              "    }\n",
              "\n",
              "    .dataframe tbody tr th {\n",
              "        vertical-align: top;\n",
              "    }\n",
              "\n",
              "    .dataframe thead th {\n",
              "        text-align: right;\n",
              "    }\n",
              "</style>\n",
              "<table border=\"1\" class=\"dataframe\">\n",
              "  <thead>\n",
              "    <tr style=\"text-align: right;\">\n",
              "      <th></th>\n",
              "      <th>radius_mean</th>\n",
              "      <th>area_mean</th>\n",
              "      <th>compactness_mean</th>\n",
              "    </tr>\n",
              "  </thead>\n",
              "  <tbody>\n",
              "    <tr>\n",
              "      <th>count</th>\n",
              "      <td>569.000000</td>\n",
              "      <td>569.000000</td>\n",
              "      <td>569.000000</td>\n",
              "    </tr>\n",
              "    <tr>\n",
              "      <th>mean</th>\n",
              "      <td>14.127292</td>\n",
              "      <td>654.889104</td>\n",
              "      <td>0.104341</td>\n",
              "    </tr>\n",
              "    <tr>\n",
              "      <th>std</th>\n",
              "      <td>3.524049</td>\n",
              "      <td>351.914129</td>\n",
              "      <td>0.052813</td>\n",
              "    </tr>\n",
              "    <tr>\n",
              "      <th>min</th>\n",
              "      <td>6.981000</td>\n",
              "      <td>143.500000</td>\n",
              "      <td>0.019380</td>\n",
              "    </tr>\n",
              "    <tr>\n",
              "      <th>25%</th>\n",
              "      <td>11.700000</td>\n",
              "      <td>420.300000</td>\n",
              "      <td>0.064920</td>\n",
              "    </tr>\n",
              "    <tr>\n",
              "      <th>50%</th>\n",
              "      <td>13.370000</td>\n",
              "      <td>551.100000</td>\n",
              "      <td>0.092630</td>\n",
              "    </tr>\n",
              "    <tr>\n",
              "      <th>75%</th>\n",
              "      <td>15.780000</td>\n",
              "      <td>782.700000</td>\n",
              "      <td>0.130400</td>\n",
              "    </tr>\n",
              "    <tr>\n",
              "      <th>max</th>\n",
              "      <td>28.110000</td>\n",
              "      <td>2501.000000</td>\n",
              "      <td>0.345400</td>\n",
              "    </tr>\n",
              "  </tbody>\n",
              "</table>\n",
              "</div>"
            ],
            "text/plain": [
              "       radius_mean    area_mean  compactness_mean\n",
              "count   569.000000   569.000000        569.000000\n",
              "mean     14.127292   654.889104          0.104341\n",
              "std       3.524049   351.914129          0.052813\n",
              "min       6.981000   143.500000          0.019380\n",
              "25%      11.700000   420.300000          0.064920\n",
              "50%      13.370000   551.100000          0.092630\n",
              "75%      15.780000   782.700000          0.130400\n",
              "max      28.110000  2501.000000          0.345400"
            ]
          },
          "metadata": {},
          "execution_count": 28
        }
      ]
    },
    {
      "cell_type": "code",
      "metadata": {
        "id": "xxRwi778fArA"
      },
      "source": [
        "#2. Soruda istenen yüzdelik veriler üst tarafta gözüküyor şimdi IQR methodu ile outlier verilerini gösterme zamanı"
      ],
      "execution_count": 29,
      "outputs": []
    },
    {
      "cell_type": "code",
      "metadata": {
        "id": "KjTmQETwiJs1",
        "colab": {
          "base_uri": "https://localhost:8080/"
        },
        "outputId": "d60ce92b-d647-4a25-8852-64e8f1b23c14"
      },
      "source": [
        "Q1_radius_mean = described.radius_mean[4]\n",
        "Q3_radius_mean = described.radius_mean[6]\n",
        "\n",
        "IQR_radius_mean = Q3_radius_mean - Q1_radius_mean\n",
        "low_radius_mean = Q1_radius_mean - (1.5 * IQR_radius_mean)\n",
        "print(low_radius_mean)\n",
        "high_radius_mean = Q3_radius_mean + (1.5 * IQR_radius_mean)\n",
        "print(high_radius_mean)\n",
        "\n",
        "Q1_area_mean = described.area_mean[4]\n",
        "Q3_area_mean = described.area_mean[6]\n",
        "\n",
        "IQR_area_mean = Q3_area_mean - Q1_area_mean\n",
        "low_area_mean = Q1_area_mean - (1.5 * IQR_area_mean)\n",
        "print(low_area_mean,\"negatif alan :)\")\n",
        "high_area_mean = Q3_area_mean + (1.5 * IQR_area_mean)\n",
        "print(high_area_mean)\n",
        "\n",
        "Q1_compactness_mean = described.compactness_mean[4]\n",
        "Q3_compactness_mean = described.compactness_mean[6]\n",
        "\n",
        "IQR_compactness_mean = Q3_compactness_mean - Q1_compactness_mean\n",
        "low_compactness_mean = Q1_compactness_mean - (1.5 * IQR_compactness_mean)\n",
        "print(low_compactness_mean,\"negatif büyüklük değerleri :)\")\n",
        "high_compactness_mean = Q3_compactness_mean + (1.5 * IQR_compactness_mean)\n",
        "print(high_compactness_mean)"
      ],
      "execution_count": 30,
      "outputs": [
        {
          "output_type": "stream",
          "name": "stdout",
          "text": [
            "5.579999999999999\n",
            "21.9\n",
            "-123.30000000000001 negatif alan :)\n",
            "1326.3000000000002\n",
            "-0.03329999999999997 negatif büyüklük değerleri :)\n",
            "0.22861999999999996\n"
          ]
        }
      ]
    },
    {
      "cell_type": "code",
      "metadata": {
        "id": "viA_2GVjk9KJ",
        "colab": {
          "base_uri": "https://localhost:8080/"
        },
        "outputId": "8058b0d9-00e3-4437-8162-701eed35eb2d"
      },
      "source": [
        "print(\"Outliers for radius_mean are\", df_new[(df_new.radius_mean < low_radius_mean) | (df_new.radius_mean > high_radius_mean)].radius_mean.values)\n",
        "print(len(df_new[(df_new.radius_mean < low_radius_mean) | (df_new.radius_mean > high_radius_mean)].radius_mean.values))"
      ],
      "execution_count": 31,
      "outputs": [
        {
          "output_type": "stream",
          "name": "stdout",
          "text": [
            "Outliers for radius_mean are [25.22 22.27 24.25 23.27 27.22 23.29 28.11 23.21 23.51 25.73 22.01 27.42\n",
            " 23.09 24.63]\n",
            "14\n"
          ]
        }
      ]
    },
    {
      "cell_type": "code",
      "metadata": {
        "id": "oNWAGhBAmDPK",
        "colab": {
          "base_uri": "https://localhost:8080/"
        },
        "outputId": "518d2421-ab4c-4bb8-a703-90a3595c27bb"
      },
      "source": [
        "print(\"Outliers for area_mean are\", df_new[(df_new.area_mean < low_area_mean) | (df_new.area_mean > high_area_mean)].area_mean.values)\n",
        "print(len(df_new[(df_new.area_mean < low_area_mean) | (df_new.area_mean > high_area_mean)].area_mean.values))"
      ],
      "execution_count": 32,
      "outputs": [
        {
          "output_type": "stream",
          "name": "stdout",
          "text": [
            "Outliers for area_mean are [1404. 1878. 1509. 1761. 1686. 2250. 1685. 2499. 1670. 1364. 1419. 1491.\n",
            " 1747. 2010. 1546. 1482. 1386. 1335. 1407. 1384. 2501. 1682. 1841. 1347.\n",
            " 1479.]\n",
            "25\n"
          ]
        }
      ]
    },
    {
      "cell_type": "code",
      "metadata": {
        "id": "SelA8cFhmfpO",
        "colab": {
          "base_uri": "https://localhost:8080/"
        },
        "outputId": "89abd085-fe21-49bf-d67b-2a16b2684e5f"
      },
      "source": [
        "print(\"Outliers for compactness_mean are\", df_new[(df_new.compactness_mean < low_compactness_mean) | (df_new.compactness_mean > high_compactness_mean)].compactness_mean.values)\n",
        "print(len(df_new[(df_new.compactness_mean < low_compactness_mean) | (df_new.compactness_mean > high_compactness_mean)].compactness_mean.values))"
      ],
      "execution_count": 33,
      "outputs": [
        {
          "output_type": "stream",
          "name": "stdout",
          "text": [
            "Outliers for compactness_mean are [0.2776 0.2839 0.2396 0.2458 0.2293 0.3454 0.2665 0.2768 0.2867 0.2832\n",
            " 0.2413 0.3114 0.2364 0.2363 0.2576 0.277 ]\n",
            "16\n"
          ]
        }
      ]
    },
    {
      "cell_type": "markdown",
      "metadata": {
        "id": "c8wVVDxCnjYd"
      },
      "source": [
        "En fazla outlier area_mean verisinde gözüküyor ayrıca area_mean ve compactness_mean verilerinin lower boundları negatif ancak bu veriler bir büyüklük gösterdikleri için asla negatif olamazlar başka bir değişle compactness_mean ve area_mean verilerinin hesaplanmış lower boundları çok da bir anlam ifade etmemektedirler. Veriler incelendiğinde radius_mean için de lower bound ın altında olan bir outlier verisi gözükmemektedir yani bütün bu 3 kolun için outlierların hepsi upper bound üzerindedir."
      ]
    },
    {
      "cell_type": "markdown",
      "metadata": {
        "id": "zxsZrk8kpWGf"
      },
      "source": [
        "3-) Ekli data üzerindeki aşağıda yer alan kolonların birbirleriyle olan korelasyonlarını, covaryanslarını, Pearson Correlation Coefficientlarını, Spearman Rank Coefficientlarını ve Effect Size'larını bularak sözel ve karşılaştırmalı olarak yorumlayalım."
      ]
    },
    {
      "cell_type": "code",
      "metadata": {
        "id": "tK6sS0rppX7g",
        "colab": {
          "base_uri": "https://localhost:8080/",
          "height": 142
        },
        "outputId": "35c4fb15-fd83-4abb-e120-bd7f66af0f46"
      },
      "source": [
        "PeCorrelation_df = df_new.corr(method='pearson')\n",
        "PeCorrelation_df\n",
        "#Normal korelasyon ile pearson korelasyonu aynıdır o yüzden ayrı bir kod yazmıyorum "
      ],
      "execution_count": 34,
      "outputs": [
        {
          "output_type": "execute_result",
          "data": {
            "text/html": [
              "<div>\n",
              "<style scoped>\n",
              "    .dataframe tbody tr th:only-of-type {\n",
              "        vertical-align: middle;\n",
              "    }\n",
              "\n",
              "    .dataframe tbody tr th {\n",
              "        vertical-align: top;\n",
              "    }\n",
              "\n",
              "    .dataframe thead th {\n",
              "        text-align: right;\n",
              "    }\n",
              "</style>\n",
              "<table border=\"1\" class=\"dataframe\">\n",
              "  <thead>\n",
              "    <tr style=\"text-align: right;\">\n",
              "      <th></th>\n",
              "      <th>radius_mean</th>\n",
              "      <th>area_mean</th>\n",
              "      <th>compactness_mean</th>\n",
              "    </tr>\n",
              "  </thead>\n",
              "  <tbody>\n",
              "    <tr>\n",
              "      <th>radius_mean</th>\n",
              "      <td>1.000000</td>\n",
              "      <td>0.987357</td>\n",
              "      <td>0.506124</td>\n",
              "    </tr>\n",
              "    <tr>\n",
              "      <th>area_mean</th>\n",
              "      <td>0.987357</td>\n",
              "      <td>1.000000</td>\n",
              "      <td>0.498502</td>\n",
              "    </tr>\n",
              "    <tr>\n",
              "      <th>compactness_mean</th>\n",
              "      <td>0.506124</td>\n",
              "      <td>0.498502</td>\n",
              "      <td>1.000000</td>\n",
              "    </tr>\n",
              "  </tbody>\n",
              "</table>\n",
              "</div>"
            ],
            "text/plain": [
              "                  radius_mean  area_mean  compactness_mean\n",
              "radius_mean          1.000000   0.987357          0.506124\n",
              "area_mean            0.987357   1.000000          0.498502\n",
              "compactness_mean     0.506124   0.498502          1.000000"
            ]
          },
          "metadata": {},
          "execution_count": 34
        }
      ]
    },
    {
      "cell_type": "code",
      "metadata": {
        "id": "IOm2v5i6q6Gb",
        "colab": {
          "base_uri": "https://localhost:8080/",
          "height": 142
        },
        "outputId": "375d7ed3-91c8-4645-d318-2b80805878d9"
      },
      "source": [
        "SpCorrelation_df = df_new.corr(method='spearman')\n",
        "SpCorrelation_df"
      ],
      "execution_count": 35,
      "outputs": [
        {
          "output_type": "execute_result",
          "data": {
            "text/html": [
              "<div>\n",
              "<style scoped>\n",
              "    .dataframe tbody tr th:only-of-type {\n",
              "        vertical-align: middle;\n",
              "    }\n",
              "\n",
              "    .dataframe tbody tr th {\n",
              "        vertical-align: top;\n",
              "    }\n",
              "\n",
              "    .dataframe thead th {\n",
              "        text-align: right;\n",
              "    }\n",
              "</style>\n",
              "<table border=\"1\" class=\"dataframe\">\n",
              "  <thead>\n",
              "    <tr style=\"text-align: right;\">\n",
              "      <th></th>\n",
              "      <th>radius_mean</th>\n",
              "      <th>area_mean</th>\n",
              "      <th>compactness_mean</th>\n",
              "    </tr>\n",
              "  </thead>\n",
              "  <tbody>\n",
              "    <tr>\n",
              "      <th>radius_mean</th>\n",
              "      <td>1.000000</td>\n",
              "      <td>0.999602</td>\n",
              "      <td>0.497578</td>\n",
              "    </tr>\n",
              "    <tr>\n",
              "      <th>area_mean</th>\n",
              "      <td>0.999602</td>\n",
              "      <td>1.000000</td>\n",
              "      <td>0.488988</td>\n",
              "    </tr>\n",
              "    <tr>\n",
              "      <th>compactness_mean</th>\n",
              "      <td>0.497578</td>\n",
              "      <td>0.488988</td>\n",
              "      <td>1.000000</td>\n",
              "    </tr>\n",
              "  </tbody>\n",
              "</table>\n",
              "</div>"
            ],
            "text/plain": [
              "                  radius_mean  area_mean  compactness_mean\n",
              "radius_mean          1.000000   0.999602          0.497578\n",
              "area_mean            0.999602   1.000000          0.488988\n",
              "compactness_mean     0.497578   0.488988          1.000000"
            ]
          },
          "metadata": {},
          "execution_count": 35
        }
      ]
    },
    {
      "cell_type": "markdown",
      "metadata": {
        "id": "oXCmqY9TbAyu"
      },
      "source": [
        "Üstte de gözüktüğü gibi radius ve area değerlerinin ortalamaları birbirlerine çok yüksek bir katsayı ile pozitif korele bunun nedeni aslında bu 2 değerin birbirlerine nedensel açıdan bağlı olmasıdır yarıçapı artan cisimlerin alanlar da artar "
      ]
    },
    {
      "cell_type": "code",
      "metadata": {
        "colab": {
          "base_uri": "https://localhost:8080/",
          "height": 142
        },
        "id": "n5r66lJEYh7-",
        "outputId": "d43efbdf-58a2-4f23-b8d3-cbdbf310afa0"
      },
      "source": [
        "Covariance_df = df_new.cov()\n",
        "Covariance_df"
      ],
      "execution_count": 36,
      "outputs": [
        {
          "output_type": "execute_result",
          "data": {
            "text/html": [
              "<div>\n",
              "<style scoped>\n",
              "    .dataframe tbody tr th:only-of-type {\n",
              "        vertical-align: middle;\n",
              "    }\n",
              "\n",
              "    .dataframe tbody tr th {\n",
              "        vertical-align: top;\n",
              "    }\n",
              "\n",
              "    .dataframe thead th {\n",
              "        text-align: right;\n",
              "    }\n",
              "</style>\n",
              "<table border=\"1\" class=\"dataframe\">\n",
              "  <thead>\n",
              "    <tr style=\"text-align: right;\">\n",
              "      <th></th>\n",
              "      <th>radius_mean</th>\n",
              "      <th>area_mean</th>\n",
              "      <th>compactness_mean</th>\n",
              "    </tr>\n",
              "  </thead>\n",
              "  <tbody>\n",
              "    <tr>\n",
              "      <th>radius_mean</th>\n",
              "      <td>12.418920</td>\n",
              "      <td>1224.483409</td>\n",
              "      <td>0.094197</td>\n",
              "    </tr>\n",
              "    <tr>\n",
              "      <th>area_mean</th>\n",
              "      <td>1224.483409</td>\n",
              "      <td>123843.554318</td>\n",
              "      <td>9.264931</td>\n",
              "    </tr>\n",
              "    <tr>\n",
              "      <th>compactness_mean</th>\n",
              "      <td>0.094197</td>\n",
              "      <td>9.264931</td>\n",
              "      <td>0.002789</td>\n",
              "    </tr>\n",
              "  </tbody>\n",
              "</table>\n",
              "</div>"
            ],
            "text/plain": [
              "                  radius_mean      area_mean  compactness_mean\n",
              "radius_mean         12.418920    1224.483409          0.094197\n",
              "area_mean         1224.483409  123843.554318          9.264931\n",
              "compactness_mean     0.094197       9.264931          0.002789"
            ]
          },
          "metadata": {},
          "execution_count": 36
        }
      ]
    },
    {
      "cell_type": "code",
      "metadata": {
        "id": "jJojPrx7rE2g"
      },
      "source": [
        "#Effect Size Hesaplanması\n",
        "#Açıkçası bunu hesaplayan bir paket olduğu için kendim ek bir kod yazmadım :D\n",
        "!pip install pingouin\n",
        "import pingouin as pg"
      ],
      "execution_count": null,
      "outputs": []
    },
    {
      "cell_type": "code",
      "metadata": {
        "colab": {
          "base_uri": "https://localhost:8080/"
        },
        "id": "g45xDM6tsTHY",
        "outputId": "72c7ab0b-83c2-4e02-d502-5c2b88576e4e"
      },
      "source": [
        "pg.compute_effsize(df_new.area_mean, df_new.radius_mean, eftype='cohen')\n",
        "# Eğer verilerin yerleri ters olsaydı effect size negatif çıkıcaktı bunun nedeni\n",
        "# Bu 2 farklı verinin ortalamalarının birbirinden çok uzak olmasıdır \n",
        "# radius mean = 14.127292\tarea mean = 654.889104\t"
      ],
      "execution_count": 38,
      "outputs": [
        {
          "output_type": "execute_result",
          "data": {
            "text/plain": [
              "2.5748571535813936"
            ]
          },
          "metadata": {},
          "execution_count": 38
        }
      ]
    },
    {
      "cell_type": "code",
      "metadata": {
        "colab": {
          "base_uri": "https://localhost:8080/"
        },
        "id": "gHyAZ7zGZZLC",
        "outputId": "a4c179d0-5dec-45de-ef86-41f8b7c807f7"
      },
      "source": [
        "pg.compute_effsize(df_new.area_mean, df_new.compactness_mean, eftype='cohen')\n",
        "# Yine aynı şekilde verilerin ortalamaları birbirinden çok uzak olduğundan dolayı\n",
        "# Effect size çok büyük çıkıyor "
      ],
      "execution_count": 39,
      "outputs": [
        {
          "output_type": "execute_result",
          "data": {
            "text/plain": [
              "2.6313393087695855"
            ]
          },
          "metadata": {},
          "execution_count": 39
        }
      ]
    },
    {
      "cell_type": "markdown",
      "metadata": {
        "id": "Z2YSmktKbMH1"
      },
      "source": [
        "4-) Bayes Teoreminin gerçek hayatta karşımıza çıkan ve kullanılan örneklerinden 5 tane bulalım."
      ]
    },
    {
      "cell_type": "markdown",
      "metadata": {
        "id": "O-_MjNjjcyzC"
      },
      "source": [
        "Bayes teoremi hakkında eğlenceli bir örnek bir çocuğun erkek veya kız olmasının paradox u için görebiliriz 2 çocuklu bir ailenin 1 çocuğu kız ise diğer çocuğunun da kız olma ihtimali nedir sorusuna cevap verirken bu teoremi kullanırsak cevap 2/3 çıkıcaktır ancak bir çocuğun kız veya erkek olma ihtimali genlerle karar verilceğinden bu ihtimal hep yüzde 50 olmalıdır https://journals.le.ac.uk/ojs1/index.php/lumj/article/view/3488"
      ]
    },
    {
      "cell_type": "markdown",
      "metadata": {
        "id": "KN3-wXxzdMmd"
      },
      "source": [
        "Yine ilaç sektöründe yapılan testlerin popülasyonun yüzde kaçında doğru karar verdiği konusunda da bir sürü bayes teoremi ile araştırmalar görebiliriz örnek olarak https://towardsdatascience.com/bayes-rule-with-a-simple-and-practical-example-2bce3d0f4ad0\n",
        "Görüldüğü üzere yüksek bir true positive bulma oranına sahip olan bir test olsa da false positive sayısı da çok fazla bunun nedeni nufüsun fazla olması ve false positive rejection rate in %95 ile yetersiz kalmasıdır"
      ]
    },
    {
      "cell_type": "markdown",
      "metadata": {
        "id": "rbpL-a5ielKA"
      },
      "source": [
        "Bayes teoremini https://obscuredinosaurfacts.com/blog/post/2021/01/27/bayes.html linkinde farklı olaylar için kullanılmış halde görebilirsiniz "
      ]
    },
    {
      "cell_type": "markdown",
      "metadata": {
        "id": "gtkxlhJEe3Bk"
      },
      "source": [
        "5-) Poisson, Normal , Gamma, Weilbull ve Logaritmik dağılımların benzer ve farklı yönlerini bir tablo halinde çıkaralım.(Araştırma Ödevi)"
      ]
    },
    {
      "cell_type": "markdown",
      "metadata": {
        "id": "0uQW8eTQllkR"
      },
      "source": [
        "![Ödev 5 .png](data:image/png;base64,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)"
      ]
    }
  ]
}